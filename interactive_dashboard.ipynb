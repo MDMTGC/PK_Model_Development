# %% [markdown]
# # Interactive Dashboard for PK Model Simulation
# 
# Use the sliders to adjust parameters and rerun the simulation.

# %%
import numpy as np
import matplotlib.pyplot as plt
import ipywidgets as widgets
from ipywidgets import interact

# Define the simulation function (similar to simulation_enhanced.py, but simplified)
def run_simulation(k1=0.5, kE=0.1, k_group=0.05):
    time_steps = 500
    num_individuals = 200
    dt = 1.0
    t = np.arange(0, time_steps * dt, dt)
    schumann_amplitude = 0.1
    schumann_resonance_effect = schumann_amplitude * np.sin(2 * np.pi * 7.83 * t / time_steps)
    
    decay_rate = 0.01
    alpha = 0.2
    B0 = 1.0
    
    coherence_levels = np.random.uniform(0.5, 0.7, num_individuals)
    avg_coherence_over_time = []
    
    for i in range(time_steps):
        avg_coherence = np.mean(coherence_levels)
        avg_coherence_over_time.append(avg_coherence)
        biophoton_rates = B0 + alpha * coherence_levels
        group_reinforcement = k_group * (avg_coherence - coherence_levels)
        env_effect = kE * schumann_resonance_effect[i] * (1 - coherence_levels)
        noise = np.random.normal(0, 0.005, num_individuals)
        dC_dt = k1 * biophoton_rates * (1 - coherence_levels) - decay_rate * coherence_levels \
                + group_reinforcement + env_effect + noise
        coherence_levels += dC_dt * dt
        coherence_levels = np.clip(coherence_levels, 0, 1)
    
    plt.figure(figsize=(10, 6))
    plt.plot(t, avg_coherence_over_time, label="Avg. Coherence")
    plt.xlabel("Time (s)")
    plt.ylabel("Coherence Level")
    plt.title("Interactive Simulation of Group Coherence")
    plt.legend()
    plt.show()

# %%
interact(run_simulation, k1=widgets.FloatSlider(min=0.1, max=1.0, step=0.05, value=0.5),
         kE=widgets.FloatSlider(min=0.0, max=0.5, step=0.05, value=0.1),
         k_group=widgets.FloatSlider(min=0.0, max=0.2, step=0.01, value=0.05))
