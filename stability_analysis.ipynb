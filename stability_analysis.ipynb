# %% [markdown]
# # Stability and Sensitivity Analysis of the Unified PK Model
# 
# This notebook explores the stability of the model by performing parameter sensitivity analysis and phase plane analysis.
# 
# **Sections:**
# 1. Parameter Sensitivity: How changes in \( k_1 \), \( k_2 \), and \( k_E \) affect the steady state.
# 2. Phase Plane Analysis: Visualization of trajectories in the \( C(t) \) space.

# %%
import numpy as np
import matplotlib.pyplot as plt
from matplotlib import cm

# Define the model parameters (baseline)
k1 = 0.5
k2 = 0.01  # using decay rate as k2
kE = 0.1
alpha = 0.2
B0 = 1.0

def dC_dt(C, k1, k2, kE, E, B0, alpha):
    B = B0 + alpha * C
    return k1 * B * (1 - C) - k2 * C + kE * E * (1 - C)

# %% [markdown]
# ## Parameter Sensitivity Analysis
# We vary \( k1 \) while keeping other parameters constant and observe the steady state.

# %%
C_vals = np.linspace(0, 1, 200)
k1_values = [0.3, 0.5, 0.7, 0.9]
steady_states = {}

for k1_val in k1_values:
    dC = dC_dt(C_vals, k1_val, k2, kE, 0.0, B0, alpha)
    # Find approximate zero crossing (steady state)
    idx = np.argmin(np.abs(dC))
    steady_states[k1_val] = C_vals[idx]

plt.figure(figsize=(10, 6))
for k1_val in k1_values:
    plt.plot(C_vals, dC_dt(C_vals, k1_val, k2, kE, 0.0, B0, alpha), label=f"k1 = {k1_val}")
plt.axhline(0, color='black', lw=1)
plt.xlabel("Coherence Level C")
plt.ylabel("dC/dt")
plt.title("Sensitivity of dC/dt to k1")
plt.legend()
plt.show()

print("Steady-state estimates for varying k1:")
for k, v in steady_states.items():
    print(f"k1 = {k}: Steady state C ≈ {v:.3f}")

# %% [markdown]
# ## Phase Plane Analysis
# Plot trajectories for different initial conditions.

# %%
def simulate_trajectory(C0, k1, k2, kE, E, B0, alpha, dt=0.01, T=10):
    steps = int(T/dt)
    C_traj = np.zeros(steps)
    C_traj[0] = C0
    for i in range(1, steps):
        C_traj[i] = C_traj[i-1] + dC_dt(C_traj[i-1], k1, k2, kE, E, B0, alpha) * dt
        C_traj[i] = np.clip(C_traj[i], 0, 1)
    return C_traj

initial_conditions = [0.2, 0.4, 0.6, 0.8]
plt.figure(figsize=(10, 6))
for C0 in initial_conditions:
    traj = simulate_trajectory(C0, k1, k2, kE, 0.0, B0, alpha)
    plt.plot(np.linspace(0, 10, len(traj)), traj, label=f"C0 = {C0}")
plt.xlabel("Time (s)")
plt.ylabel("Coherence Level C")
plt.title("Trajectories for Different Initial Conditions")
plt.legend()
plt.show()
